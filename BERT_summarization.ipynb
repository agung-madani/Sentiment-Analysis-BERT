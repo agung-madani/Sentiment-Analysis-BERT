{
 "cells": [
  {
   "cell_type": "code",
   "execution_count": 38,
   "metadata": {},
   "outputs": [],
   "source": [
    "import pandas as pd\n",
    "from datetime import datetime\n",
    "\n",
    "def parser(x):\n",
    "    return datetime.strptime(x, '%Y-%m-%d %H:%M:%S')\n",
    "\n",
    "df = pd.read_csv(\"Tokopedia_PlayStore 1000 PlayStore indonesian reviews sentiment.csv\", header=0, parse_dates=[0], index_col=0)"
   ]
  },
  {
   "cell_type": "code",
   "execution_count": 39,
   "metadata": {},
   "outputs": [],
   "source": [
    "import torch\n",
    "from transformers import BertTokenizer, BertModel\n",
    "from nltk.tokenize import sent_tokenize\n",
    "from sklearn.metrics.pairwise import cosine_similarity"
   ]
  },
  {
   "cell_type": "code",
   "execution_count": 40,
   "metadata": {},
   "outputs": [],
   "source": [
    "# Loading the pre-trained BERT model and tokenizer\n",
    "model = BertModel.from_pretrained('cahya/bert-base-indonesian-522M')\n",
    "tokenizer = BertTokenizer.from_pretrained('cahya/bert-base-indonesian-522M', do_lower_case=True)"
   ]
  },
  {
   "cell_type": "code",
   "execution_count": 41,
   "metadata": {},
   "outputs": [],
   "source": [
    "summaries = {}\n",
    "originals = []\n",
    "sentiments = []\n",
    "summary = []"
   ]
  },
  {
   "cell_type": "code",
   "execution_count": 42,
   "metadata": {},
   "outputs": [
    {
     "data": {
      "text/html": [
       "<div>\n",
       "<style scoped>\n",
       "    .dataframe tbody tr th:only-of-type {\n",
       "        vertical-align: middle;\n",
       "    }\n",
       "\n",
       "    .dataframe tbody tr th {\n",
       "        vertical-align: top;\n",
       "    }\n",
       "\n",
       "    .dataframe thead th {\n",
       "        text-align: right;\n",
       "    }\n",
       "</style>\n",
       "<table border=\"1\" class=\"dataframe\">\n",
       "  <thead>\n",
       "    <tr style=\"text-align: right;\">\n",
       "      <th></th>\n",
       "      <th>content</th>\n",
       "      <th>sentiment</th>\n",
       "    </tr>\n",
       "  </thead>\n",
       "  <tbody>\n",
       "    <tr>\n",
       "      <th>0</th>\n",
       "      <td>Meresahkan. Iya sih promonya menarik, tapi kur...</td>\n",
       "      <td>-1</td>\n",
       "    </tr>\n",
       "    <tr>\n",
       "      <th>1</th>\n",
       "      <td>Di tingkatkan lagi informasi pelacakan barang ...</td>\n",
       "      <td>0</td>\n",
       "    </tr>\n",
       "    <tr>\n",
       "      <th>2</th>\n",
       "      <td>rewel di tagih terus kaya bocah .satu hari.lam...</td>\n",
       "      <td>-1</td>\n",
       "    </tr>\n",
       "    <tr>\n",
       "      <th>3</th>\n",
       "      <td>Kurangin bintang lah,biaya aplikasi naik</td>\n",
       "      <td>-1</td>\n",
       "    </tr>\n",
       "    <tr>\n",
       "      <th>4</th>\n",
       "      <td>suka sama paket belanja 10K dari tokped, semog...</td>\n",
       "      <td>1</td>\n",
       "    </tr>\n",
       "  </tbody>\n",
       "</table>\n",
       "</div>"
      ],
      "text/plain": [
       "                                             content  sentiment\n",
       "0  Meresahkan. Iya sih promonya menarik, tapi kur...         -1\n",
       "1  Di tingkatkan lagi informasi pelacakan barang ...          0\n",
       "2  rewel di tagih terus kaya bocah .satu hari.lam...         -1\n",
       "3           Kurangin bintang lah,biaya aplikasi naik         -1\n",
       "4  suka sama paket belanja 10K dari tokped, semog...          1"
      ]
     },
     "execution_count": 42,
     "metadata": {},
     "output_type": "execute_result"
    }
   ],
   "source": [
    "df.head()"
   ]
  },
  {
   "cell_type": "code",
   "execution_count": 10,
   "metadata": {},
   "outputs": [],
   "source": [
    "# # Convert the index to a monthly period\n",
    "# df.index = df.index.to_period('M')\n",
    "\n",
    "# # Group the dataframe by month\n",
    "# grouped_df = df.groupby(df.index)\n",
    "\n",
    "# # Iterate over the groups and access the data for each month\n",
    "# for month, data in grouped_df:\n",
    "#     print(f\"Month: {month}\")\n"
   ]
  },
  {
   "cell_type": "code",
   "execution_count": 43,
   "metadata": {},
   "outputs": [
    {
     "name": "stdout",
     "output_type": "stream",
     "text": [
      "100 DONE\n",
      "200 DONE\n",
      "300 DONE\n",
      "400 DONE\n",
      "500 DONE\n",
      "600 DONE\n",
      "700 DONE\n",
      "800 DONE\n",
      "900 DONE\n",
      "1000 DONE\n"
     ]
    }
   ],
   "source": [
    "count = 1\n",
    "for text,sentiment in zip(df['content'],df['sentiment']):\n",
    "    # Preprocessing the text\n",
    "    if isinstance(text, str):  # Check if text is a string\n",
    "        sentences = sent_tokenize(text)\n",
    "        if len(sentences) < 2:\n",
    "            summary.append(text)\n",
    "        else:\n",
    "            tokenized_sentences = [tokenizer.encode(sent, add_special_tokens=True) for sent in sentences]\n",
    "\n",
    "            # Encoding the input\n",
    "            max_len = 0\n",
    "            for i in tokenized_sentences:\n",
    "                if len(i) > max_len:\n",
    "                    max_len = len(i)\n",
    "\n",
    "            padded_sentences = []\n",
    "            for i in tokenized_sentences:\n",
    "                while len(i) < max_len:\n",
    "                    i.append(0)\n",
    "                padded_sentences.append(i)\n",
    "\n",
    "            input_ids = torch.tensor(padded_sentences)\n",
    "\n",
    "            # Generating the sentence embeddings\n",
    "            with torch.no_grad():\n",
    "                last_hidden_states = model(input_ids)[0]\n",
    "\n",
    "            sentence_embeddings = []\n",
    "            for i in range(len(sentences)):\n",
    "                sentence_embeddings.append(torch.mean(last_hidden_states[i], dim=0).numpy())\n",
    "\n",
    "            # Summarizing the text\n",
    "            # Compute the similarity matrix\n",
    "            similarity_matrix = cosine_similarity(sentence_embeddings)\n",
    "\n",
    "            # Generate the summary\n",
    "            num_sentences = 1\n",
    "            summary_sentences = []\n",
    "            for i in range(num_sentences):\n",
    "                sentence_scores = list(enumerate(similarity_matrix[i]))\n",
    "\n",
    "            sentence_scores = sorted(sentence_scores, key=lambda x: x[1], reverse=True)\n",
    "            summary_sentences.append(sentences[sentence_scores[1][0]])\n",
    "\n",
    "            summarization = ' '.join(summary_sentences)\n",
    "            \n",
    "            summary.append(summarization)\n",
    "            \n",
    "    else:\n",
    "        summary.append(text)\n",
    "    sentiments.append(sentiment)\n",
    "    originals.append(text)\n",
    "\n",
    "    if count % 100 == 0:\n",
    "        print(f\"{count} DONE\")\n",
    "    count += 1"
   ]
  },
  {
   "cell_type": "code",
   "execution_count": 13,
   "metadata": {
    "scrolled": false
   },
   "outputs": [],
   "source": [
    "# for month, data in grouped_df:\n",
    "#     text = ' '.join(data['review'].astype(str).tolist())\n",
    "    \n",
    "#     if len(text) > 10000:\n",
    "#         text = text[:10000]\n",
    "\n",
    "#     # Preprocessing the text\n",
    "\n",
    "#     sentences = sent_tokenize(text)\n",
    "#     tokenized_sentences = [tokenizer.encode(sent, add_special_tokens=True) for sent in sentences]\n",
    "\n",
    "#     # Encoding the input\n",
    "#     max_len = 0\n",
    "#     for i in tokenized_sentences:\n",
    "#         if len(i) > max_len:\n",
    "#             max_len = len(i)\n",
    "\n",
    "#     padded_sentences = []\n",
    "#     for i in tokenized_sentences:\n",
    "#         while len(i) < max_len:\n",
    "#             i.append(0)\n",
    "#         padded_sentences.append(i)\n",
    "\n",
    "#     input_ids = torch.tensor(padded_sentences)\n",
    "\n",
    "#     # Generating the sentence embeddings\n",
    "#     with torch.no_grad():\n",
    "#         last_hidden_states = model(input_ids)[0]\n",
    "\n",
    "#     sentence_embeddings = []\n",
    "#     for i in range(len(sentences)):\n",
    "#         sentence_embeddings.append(torch.mean(last_hidden_states[i], dim=0).numpy())\n",
    "\n",
    "#     # Summarizing the text\n",
    "#     # Compute the similarity matrix\n",
    "#     similarity_matrix = cosine_similarity(sentence_embeddings)\n",
    "\n",
    "#     # Generate the summary\n",
    "#     num_sentences = 1\n",
    "#     summary_sentences = []\n",
    "#     for i in range(num_sentences):\n",
    "#         sentence_scores = list(enumerate(similarity_matrix[i]))\n",
    "\n",
    "#     sentence_scores = sorted(sentence_scores, key=lambda x: x[1], reverse=True)\n",
    "#     summary_sentences.append(sentences[sentence_scores[1][0]])\n",
    "\n",
    "#     summarization = ' '.join(summary_sentences)\n",
    "\n",
    "#     summary.append(summarization)\n",
    "\n",
    "#     originals.append(text)\n",
    "#     print(f\"{month} DONE\")"
   ]
  },
  {
   "cell_type": "code",
   "execution_count": 14,
   "metadata": {},
   "outputs": [],
   "source": [
    "# months = []\n",
    "# for month, data in grouped_df:\n",
    "#     months.append(month)\n",
    "#     print(f\"{month} DONE\")"
   ]
  },
  {
   "cell_type": "code",
   "execution_count": 44,
   "metadata": {
    "scrolled": true
   },
   "outputs": [
    {
     "data": {
      "text/html": [
       "<div>\n",
       "<style scoped>\n",
       "    .dataframe tbody tr th:only-of-type {\n",
       "        vertical-align: middle;\n",
       "    }\n",
       "\n",
       "    .dataframe tbody tr th {\n",
       "        vertical-align: top;\n",
       "    }\n",
       "\n",
       "    .dataframe thead th {\n",
       "        text-align: right;\n",
       "    }\n",
       "</style>\n",
       "<table border=\"1\" class=\"dataframe\">\n",
       "  <thead>\n",
       "    <tr style=\"text-align: right;\">\n",
       "      <th></th>\n",
       "      <th>Original</th>\n",
       "      <th>Summary</th>\n",
       "      <th>Sentiment</th>\n",
       "    </tr>\n",
       "  </thead>\n",
       "  <tbody>\n",
       "    <tr>\n",
       "      <th>0</th>\n",
       "      <td>Meresahkan. Iya sih promonya menarik, tapi kur...</td>\n",
       "      <td>Iya sih promonya menarik, tapi kurirnya ga ber...</td>\n",
       "      <td>-1</td>\n",
       "    </tr>\n",
       "    <tr>\n",
       "      <th>1</th>\n",
       "      <td>Di tingkatkan lagi informasi pelacakan barang ...</td>\n",
       "      <td>Informasi saja sudah cukup.. di tingkatkan lag...</td>\n",
       "      <td>0</td>\n",
       "    </tr>\n",
       "    <tr>\n",
       "      <th>2</th>\n",
       "      <td>rewel di tagih terus kaya bocah .satu hari.lam...</td>\n",
       "      <td>rewel di tagih terus kaya bocah .satu hari.lam...</td>\n",
       "      <td>-1</td>\n",
       "    </tr>\n",
       "    <tr>\n",
       "      <th>3</th>\n",
       "      <td>Kurangin bintang lah,biaya aplikasi naik</td>\n",
       "      <td>Kurangin bintang lah,biaya aplikasi naik</td>\n",
       "      <td>-1</td>\n",
       "    </tr>\n",
       "    <tr>\n",
       "      <th>4</th>\n",
       "      <td>suka sama paket belanja 10K dari tokped, semog...</td>\n",
       "      <td>suka sama paket belanja 10K dari tokped, semog...</td>\n",
       "      <td>1</td>\n",
       "    </tr>\n",
       "  </tbody>\n",
       "</table>\n",
       "</div>"
      ],
      "text/plain": [
       "                                            Original  \\\n",
       "0  Meresahkan. Iya sih promonya menarik, tapi kur...   \n",
       "1  Di tingkatkan lagi informasi pelacakan barang ...   \n",
       "2  rewel di tagih terus kaya bocah .satu hari.lam...   \n",
       "3           Kurangin bintang lah,biaya aplikasi naik   \n",
       "4  suka sama paket belanja 10K dari tokped, semog...   \n",
       "\n",
       "                                             Summary  Sentiment  \n",
       "0  Iya sih promonya menarik, tapi kurirnya ga ber...         -1  \n",
       "1  Informasi saja sudah cukup.. di tingkatkan lag...          0  \n",
       "2  rewel di tagih terus kaya bocah .satu hari.lam...         -1  \n",
       "3           Kurangin bintang lah,biaya aplikasi naik         -1  \n",
       "4  suka sama paket belanja 10K dari tokped, semog...          1  "
      ]
     },
     "execution_count": 44,
     "metadata": {},
     "output_type": "execute_result"
    }
   ],
   "source": [
    "# summaries['Month'] = months\n",
    "summaries['Original'] = originals\n",
    "summaries['Summary'] = summary\n",
    "summaries['Sentiment'] = sentiments\n",
    "\n",
    "df_summaries = pd.DataFrame(summaries)\n",
    "\n",
    "df_summaries.head()"
   ]
  },
  {
   "cell_type": "code",
   "execution_count": 45,
   "metadata": {},
   "outputs": [
    {
     "data": {
      "text/plain": [
       "1000"
      ]
     },
     "execution_count": 45,
     "metadata": {},
     "output_type": "execute_result"
    }
   ],
   "source": [
    "len(df_summaries)"
   ]
  },
  {
   "cell_type": "code",
   "execution_count": 46,
   "metadata": {},
   "outputs": [],
   "source": [
    "df_summaries.to_csv(\"Summarization 1000 sentiment tokopedia playstore.csv\")"
   ]
  },
  {
   "cell_type": "code",
   "execution_count": null,
   "metadata": {},
   "outputs": [],
   "source": []
  }
 ],
 "metadata": {
  "kernelspec": {
   "display_name": "Python 3",
   "language": "python",
   "name": "python3"
  },
  "language_info": {
   "codemirror_mode": {
    "name": "ipython",
    "version": 3
   },
   "file_extension": ".py",
   "mimetype": "text/x-python",
   "name": "python",
   "nbconvert_exporter": "python",
   "pygments_lexer": "ipython3",
   "version": "3.8.3"
  }
 },
 "nbformat": 4,
 "nbformat_minor": 4
}
