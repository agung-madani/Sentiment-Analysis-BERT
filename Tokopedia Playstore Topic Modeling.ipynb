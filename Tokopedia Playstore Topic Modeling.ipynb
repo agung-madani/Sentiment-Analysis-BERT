{
 "cells": [
  {
   "cell_type": "code",
   "execution_count": 2,
   "metadata": {},
   "outputs": [],
   "source": [
    "def preprocess_comment(comment):\n",
    "    # Tokenization\n",
    "    tokens = nltk.word_tokenize(comment)\n",
    "\n",
    "    # Remove URL/HTTP\n",
    "    tokens = [re.sub(r'http\\S+|www.\\S+', '', token) for token in tokens]\n",
    "\n",
    "    # Remove hashtags\n",
    "    tokens = [token for token in tokens if not token.startswith('#')]\n",
    "\n",
    "    # Remove usernames/user mentions\n",
    "    tokens = [token for token in tokens if not token.startswith('@')]\n",
    "\n",
    "    # Menghilangkan emotikon\n",
    "    tokens = [re.sub(r'[^\\w\\s\\d]', '', token) for token in tokens]\n",
    "\n",
    "    # Remove symbols and numbers\n",
    "    tokens = [re.sub(r'[^a-zA-Z]', '', token) for token in tokens]\n",
    "\n",
    "    # Lowercase\n",
    "    tokens = [token.lower() for token in tokens]\n",
    "\n",
    "    # Remove stopwords\n",
    "    stopwords = set(nltk.corpus.stopwords.words('english'))\n",
    "    tokens = [token for token in tokens if token not in stopwords]\n",
    "\n",
    "    # Join tokens back to a single string\n",
    "    preprocessed_comment = ' '.join(tokens)\n",
    "\n",
    "    return preprocessed_comment"
   ]
  },
  {
   "cell_type": "code",
   "execution_count": 1,
   "metadata": {
    "id": "9F6djHYz8KMX"
   },
   "outputs": [],
   "source": [
    "import pandas as pd\n",
    "from sklearn.decomposition import LatentDirichletAllocation as LDA\n",
    "from sklearn.feature_extraction.text import CountVectorizer\n",
    "import matplotlib.pyplot as plt\n",
    "import re\n",
    "import matplotlib.pyplot as plt\n",
    "import nltk\n",
    "from nltk.corpus import stopwords"
   ]
  },
  {
   "cell_type": "code",
   "execution_count": 3,
   "metadata": {
    "id": "t_acgzxy-VcW"
   },
   "outputs": [],
   "source": [
    "df = pd.read_csv(\"Summarization 1000 sentiment tokopedia playstore.csv\", header=0, parse_dates=[0], index_col=0)\n",
    "df['Summary'] = df['Summary'].apply(preprocess_comment)"
   ]
  },
  {
   "cell_type": "code",
   "execution_count": 4,
   "metadata": {
    "colab": {
     "base_uri": "https://localhost:8080/",
     "height": 614
    },
    "id": "N36KS7Zk-gru",
    "outputId": "71d724bf-accc-4391-e501-a711b1bb3ebf"
   },
   "outputs": [
    {
     "data": {
      "text/html": [
       "<div>\n",
       "<style scoped>\n",
       "    .dataframe tbody tr th:only-of-type {\n",
       "        vertical-align: middle;\n",
       "    }\n",
       "\n",
       "    .dataframe tbody tr th {\n",
       "        vertical-align: top;\n",
       "    }\n",
       "\n",
       "    .dataframe thead th {\n",
       "        text-align: right;\n",
       "    }\n",
       "</style>\n",
       "<table border=\"1\" class=\"dataframe\">\n",
       "  <thead>\n",
       "    <tr style=\"text-align: right;\">\n",
       "      <th></th>\n",
       "      <th>Original</th>\n",
       "      <th>Summary</th>\n",
       "      <th>Sentiment</th>\n",
       "    </tr>\n",
       "  </thead>\n",
       "  <tbody>\n",
       "    <tr>\n",
       "      <th>0</th>\n",
       "      <td>Meresahkan. Iya sih promonya menarik, tapi kur...</td>\n",
       "      <td>iya sih promonya menarik  tapi kurirnya ga ber...</td>\n",
       "      <td>-1</td>\n",
       "    </tr>\n",
       "    <tr>\n",
       "      <th>1</th>\n",
       "      <td>Di tingkatkan lagi informasi pelacakan barang ...</td>\n",
       "      <td>informasi saja sudah cukup  di tingkatkan lagi...</td>\n",
       "      <td>0</td>\n",
       "    </tr>\n",
       "    <tr>\n",
       "      <th>2</th>\n",
       "      <td>rewel di tagih terus kaya bocah .satu hari.lam...</td>\n",
       "      <td>rewel di tagih terus kaya bocah satu harilamba...</td>\n",
       "      <td>-1</td>\n",
       "    </tr>\n",
       "    <tr>\n",
       "      <th>3</th>\n",
       "      <td>Kurangin bintang lah,biaya aplikasi naik</td>\n",
       "      <td>kurangin bintang lah  biaya aplikasi naik</td>\n",
       "      <td>-1</td>\n",
       "    </tr>\n",
       "    <tr>\n",
       "      <th>4</th>\n",
       "      <td>suka sama paket belanja 10K dari tokped, semog...</td>\n",
       "      <td>suka sama paket belanja k dari tokped  semoga ...</td>\n",
       "      <td>1</td>\n",
       "    </tr>\n",
       "    <tr>\n",
       "      <th>...</th>\n",
       "      <td>...</td>\n",
       "      <td>...</td>\n",
       "      <td>...</td>\n",
       "    </tr>\n",
       "    <tr>\n",
       "      <th>995</th>\n",
       "      <td>Tlong donk tokopedia belanja 50 atau pas promo...</td>\n",
       "      <td>tlong donk tokopedia belanja  atau pas promo f...</td>\n",
       "      <td>-1</td>\n",
       "    </tr>\n",
       "    <tr>\n",
       "      <th>996</th>\n",
       "      <td>Sangat mudah di mengerti</td>\n",
       "      <td>sangat mudah di mengerti</td>\n",
       "      <td>1</td>\n",
       "    </tr>\n",
       "    <tr>\n",
       "      <th>997</th>\n",
       "      <td>Makin kesini gratis ongkir makin terbatas. Pad...</td>\n",
       "      <td>padahal sudah member gold</td>\n",
       "      <td>-1</td>\n",
       "    </tr>\n",
       "    <tr>\n",
       "      <th>998</th>\n",
       "      <td>Parah banget skrg kalo checkout ada biaya laya...</td>\n",
       "      <td>parah banget skrg kalo checkout ada biaya laya...</td>\n",
       "      <td>-1</td>\n",
       "    </tr>\n",
       "    <tr>\n",
       "      <th>999</th>\n",
       "      <td>Mntap</td>\n",
       "      <td>mntap</td>\n",
       "      <td>1</td>\n",
       "    </tr>\n",
       "  </tbody>\n",
       "</table>\n",
       "<p>1000 rows × 3 columns</p>\n",
       "</div>"
      ],
      "text/plain": [
       "                                              Original  \\\n",
       "0    Meresahkan. Iya sih promonya menarik, tapi kur...   \n",
       "1    Di tingkatkan lagi informasi pelacakan barang ...   \n",
       "2    rewel di tagih terus kaya bocah .satu hari.lam...   \n",
       "3             Kurangin bintang lah,biaya aplikasi naik   \n",
       "4    suka sama paket belanja 10K dari tokped, semog...   \n",
       "..                                                 ...   \n",
       "995  Tlong donk tokopedia belanja 50 atau pas promo...   \n",
       "996                           Sangat mudah di mengerti   \n",
       "997  Makin kesini gratis ongkir makin terbatas. Pad...   \n",
       "998  Parah banget skrg kalo checkout ada biaya laya...   \n",
       "999                                              Mntap   \n",
       "\n",
       "                                               Summary  Sentiment  \n",
       "0    iya sih promonya menarik  tapi kurirnya ga ber...         -1  \n",
       "1    informasi saja sudah cukup  di tingkatkan lagi...          0  \n",
       "2    rewel di tagih terus kaya bocah satu harilamba...         -1  \n",
       "3            kurangin bintang lah  biaya aplikasi naik         -1  \n",
       "4    suka sama paket belanja k dari tokped  semoga ...          1  \n",
       "..                                                 ...        ...  \n",
       "995  tlong donk tokopedia belanja  atau pas promo f...         -1  \n",
       "996                           sangat mudah di mengerti          1  \n",
       "997                         padahal sudah member gold          -1  \n",
       "998  parah banget skrg kalo checkout ada biaya laya...         -1  \n",
       "999                                              mntap          1  \n",
       "\n",
       "[1000 rows x 3 columns]"
      ]
     },
     "execution_count": 4,
     "metadata": {},
     "output_type": "execute_result"
    }
   ],
   "source": [
    "df"
   ]
  },
  {
   "cell_type": "code",
   "execution_count": 5,
   "metadata": {
    "scrolled": true
   },
   "outputs": [
    {
     "name": "stdout",
     "output_type": "stream",
     "text": [
      "Positive samples:\n",
      "                                              Original  \\\n",
      "4    suka sama paket belanja 10K dari tokped, semog...   \n",
      "5                                     sangat memuaskan   \n",
      "6             sangat membatu terima kasih Tokopedia 🙏🙏   \n",
      "7                                terimakasih promonya.   \n",
      "8                                    sangat membantu ✨   \n",
      "..                                                 ...   \n",
      "991         Oke.. Mantab. Belanja disini murah meriah.   \n",
      "992                                               bgus   \n",
      "993  Tetap Tokped yang paling terbaik dari marketpl...   \n",
      "996                           Sangat mudah di mengerti   \n",
      "999                                              Mntap   \n",
      "\n",
      "                                               Summary  Sentiment  \n",
      "4    suka sama paket belanja 10K dari tokped, semog...          1  \n",
      "5                                     sangat memuaskan          1  \n",
      "6             sangat membatu terima kasih Tokopedia 🙏🙏          1  \n",
      "7                                terimakasih promonya.          1  \n",
      "8                                    sangat membantu ✨          1  \n",
      "..                                                 ...        ...  \n",
      "991                       Belanja disini murah meriah.          1  \n",
      "992                                               bgus          1  \n",
      "993  Tetap Tokped yang paling terbaik dari marketpl...          1  \n",
      "996                           Sangat mudah di mengerti          1  \n",
      "999                                              Mntap          1  \n",
      "\n",
      "[310 rows x 3 columns]\n",
      "\n",
      "Neutral samples:\n",
      "                                              Original  \\\n",
      "1    Di tingkatkan lagi informasi pelacakan barang ...   \n",
      "11                                   tidak sebaik dulu   \n",
      "13                   Terlalu sering di update aplikasi   \n",
      "18   Dulu suka belanja di toped full gratis ongkir,...   \n",
      "21   Tolong dong kenapa paket saya di tokopedia sud...   \n",
      "..                                                 ...   \n",
      "903    Suruh update, giliran mau update gak bisa, aneh   \n",
      "920  Memang beda kelas tokopedia dengan shopee Dari...   \n",
      "952                                         tingkatkan   \n",
      "962  Tolong dong untuk Tokopedia now di sediain kur...   \n",
      "965                                     cukup membantu   \n",
      "\n",
      "                                               Summary  Sentiment  \n",
      "1    Informasi saja sudah cukup.. di tingkatkan lag...          0  \n",
      "11                                   tidak sebaik dulu          0  \n",
      "13                   Terlalu sering di update aplikasi          0  \n",
      "18   Dulu suka belanja di toped full gratis ongkir,...          0  \n",
      "21   Tolong dong kenapa paket saya di tokopedia sud...          0  \n",
      "..                                                 ...        ...  \n",
      "903    Suruh update, giliran mau update gak bisa, aneh          0  \n",
      "920  padahal kualitas barang sama kadang lebih berk...          0  \n",
      "952                                         tingkatkan          0  \n",
      "962  Tolong dong untuk Tokopedia now di sediain kur...          0  \n",
      "965                                     cukup membantu          0  \n",
      "\n",
      "[99 rows x 3 columns]\n",
      "\n",
      "Negative samples:\n",
      "                                              Original  \\\n",
      "0    Meresahkan. Iya sih promonya menarik, tapi kur...   \n",
      "2    rewel di tagih terus kaya bocah .satu hari.lam...   \n",
      "3             Kurangin bintang lah,biaya aplikasi naik   \n",
      "10   Aplikasi yang memaksa untuk pembaruan. apabila...   \n",
      "14   Fitur Pencarian produk tidak maksimal, produk ...   \n",
      "..                                                 ...   \n",
      "989  Tukang begal cashback, cashback gimmick-gimmic...   \n",
      "994  Gokil 😀 Hargana sama dengan toko sebelah Tapi ...   \n",
      "995  Tlong donk tokopedia belanja 50 atau pas promo...   \n",
      "997  Makin kesini gratis ongkir makin terbatas. Pad...   \n",
      "998  Parah banget skrg kalo checkout ada biaya laya...   \n",
      "\n",
      "                                               Summary  Sentiment  \n",
      "0    Iya sih promonya menarik, tapi kurirnya ga ber...         -1  \n",
      "2    rewel di tagih terus kaya bocah .satu hari.lam...         -1  \n",
      "3             Kurangin bintang lah,biaya aplikasi naik         -1  \n",
      "10   apabila tidak dilakukan, maka tidak bisa melak...         -1  \n",
      "14   Fitur Pencarian produk tidak maksimal, produk ...         -1  \n",
      "..                                                 ...        ...  \n",
      "989                                    Bankrutpedia!!!         -1  \n",
      "994  Gokil 😀 Hargana sama dengan toko sebelah Tapi ...         -1  \n",
      "995  Tlong donk tokopedia belanja 50 atau pas promo...         -1  \n",
      "997                         Padahal sudah member gold.         -1  \n",
      "998  Parah banget skrg kalo checkout ada biaya laya...         -1  \n",
      "\n",
      "[591 rows x 3 columns]\n"
     ]
    }
   ],
   "source": [
    "# Separate each sample based on sentiment\n",
    "positive_df = df[df['Sentiment'] == 1]\n",
    "neutral_df = df[df['Sentiment'] == 0]\n",
    "negative_df = df[df['Sentiment'] == -1]\n",
    "\n",
    "print(\"Positive samples:\")\n",
    "print(positive_df)\n",
    "\n",
    "print(\"\\nNeutral samples:\")\n",
    "print(neutral_df)\n",
    "\n",
    "print(\"\\nNegative samples:\")\n",
    "print(negative_df)"
   ]
  },
  {
   "cell_type": "code",
   "execution_count": 6,
   "metadata": {},
   "outputs": [
    {
     "name": "stdout",
     "output_type": "stream",
     "text": [
      "Topik ke- 1\n",
      "1000 nih daganganya menu menyukai\n",
      "\n",
      "Topik ke- 2\n",
      "1000 nih daganganya menu menyukai\n",
      "\n",
      "Topik ke- 3\n",
      "sangat dan membantu bagus tokopedia\n",
      "\n"
     ]
    },
    {
     "data": {
      "image/png": "[encoded data removed]",
      "text/plain": [
       "<Figure size 432x288 with 1 Axes>"
      ]
     },
     "metadata": {
      "needs_background": "light"
     },
     "output_type": "display_data"
    }
   ],
   "source": [
    "# Inisialisasi objek CountVectorizer\n",
    "vectorizer = CountVectorizer()\n",
    "\n",
    "# Menggabungkan semua teks menjadi satu\n",
    "keseluruhan_positif = ' '.join(positive_df['Summary'])\n",
    "\n",
    "X = vectorizer.fit_transform([keseluruhan_positif])\n",
    "\n",
    "num_topics = 3\n",
    "lda_model = LDA(n_components=num_topics)\n",
    "lda_model.fit(X)\n",
    "\n",
    "feature_names = vectorizer.get_feature_names_out()\n",
    "for topic_idx, topic in enumerate(lda_model.components_):\n",
    "    keywords = [feature_names[i] for i in topic.argsort()[:-6:-1]]\n",
    "    print(\"Topik ke-\", topic_idx+1)\n",
    "    print(\" \".join(keywords))\n",
    "    print()\n",
    "\n",
    "# Visualisasi distribusi topik\n",
    "topic_distribution = lda_model.transform(X)\n",
    "plt.bar(range(num_topics), topic_distribution[0], align='center')\n",
    "plt.xlabel('Topik')\n",
    "plt.ylabel('Distribusi')\n",
    "plt.title('Distribusi Topik Positif')\n",
    "plt.xticks(range(num_topics))\n",
    "plt.show()"
   ]
  },
  {
   "cell_type": "code",
   "execution_count": 7,
   "metadata": {},
   "outputs": [
    {
     "name": "stdout",
     "output_type": "stream",
     "text": [
      "Topik ke- 1\n",
      "ysl klo keluar kemarin kentang\n",
      "\n",
      "Topik ke- 2\n",
      "di bisa aplikasi ada tokopedia\n",
      "\n",
      "Topik ke- 3\n",
      "ysl klo keluar kemarin kentang\n",
      "\n"
     ]
    },
    {
     "data": {
      "image/png": "[encoded data removed]",
      "text/plain": [
       "<Figure size 432x288 with 1 Axes>"
      ]
     },
     "metadata": {
      "needs_background": "light"
     },
     "output_type": "display_data"
    }
   ],
   "source": [
    "# Inisialisasi objek CountVectorizer\n",
    "vectorizer = CountVectorizer()\n",
    "\n",
    "# Menggabungkan semua teks menjadi satu\n",
    "keseluruhan_netral = ' '.join(neutral_df['Summary'])\n",
    "\n",
    "X = vectorizer.fit_transform([keseluruhan_netral])\n",
    "\n",
    "num_topics = 3\n",
    "lda_model = LDA(n_components=num_topics)\n",
    "lda_model.fit(X)\n",
    "\n",
    "feature_names = vectorizer.get_feature_names_out()\n",
    "for topic_idx, topic in enumerate(lda_model.components_):\n",
    "    keywords = [feature_names[i] for i in topic.argsort()[:-6:-1]]\n",
    "    print(\"Topik ke-\", topic_idx+1)\n",
    "    print(\" \".join(keywords))\n",
    "    print()\n",
    "\n",
    "# Visualisasi distribusi topik\n",
    "topic_distribution = lda_model.transform(X)\n",
    "plt.bar(range(num_topics), topic_distribution[0], align='center')\n",
    "plt.xlabel('Topik')\n",
    "plt.ylabel('Distribusi')\n",
    "plt.title('Distribusi Topik Netral')\n",
    "plt.xticks(range(num_topics))\n",
    "plt.show()"
   ]
  },
  {
   "cell_type": "code",
   "execution_count": 8,
   "metadata": {},
   "outputs": [
    {
     "name": "stdout",
     "output_type": "stream",
     "text": [
      "Topik ke- 1\n",
      "kuotanya lgsg like lipat brng\n",
      "\n",
      "Topik ke- 2\n",
      "kuotanya lgsg like lipat brng\n",
      "\n",
      "Topik ke- 3\n",
      "di biaya aplikasi tokopedia saya\n",
      "\n"
     ]
    },
    {
     "data": {
      "image/png": "[encoded data removed]",
      "text/plain": [
       "<Figure size 432x288 with 1 Axes>"
      ]
     },
     "metadata": {
      "needs_background": "light"
     },
     "output_type": "display_data"
    }
   ],
   "source": [
    "# Inisialisasi objek CountVectorizer\n",
    "vectorizer = CountVectorizer()\n",
    "\n",
    "# Menggabungkan semua teks menjadi satu\n",
    "keseluruhan_negatif = ' '.join(negative_df['Summary'])\n",
    "\n",
    "X = vectorizer.fit_transform([keseluruhan_negatif])\n",
    "\n",
    "num_topics = 3\n",
    "lda_model = LDA(n_components=num_topics)\n",
    "lda_model.fit(X)\n",
    "\n",
    "feature_names = vectorizer.get_feature_names_out()\n",
    "for topic_idx, topic in enumerate(lda_model.components_):\n",
    "    keywords = [feature_names[i] for i in topic.argsort()[:-6:-1]]\n",
    "    print(\"Topik ke-\", topic_idx+1)\n",
    "    print(\" \".join(keywords))\n",
    "    print()\n",
    "\n",
    "# Visualisasi distribusi topik\n",
    "topic_distribution = lda_model.transform(X)\n",
    "plt.bar(range(num_topics), topic_distribution[0], align='center')\n",
    "plt.xlabel('Topik')\n",
    "plt.ylabel('Distribusi')\n",
    "plt.title('Distribusi Topik negatif')\n",
    "plt.xticks(range(num_topics))\n",
    "plt.show()"
   ]
  },
  {
   "cell_type": "code",
   "execution_count": 4,
   "metadata": {
    "colab": {
     "base_uri": "https://localhost:8080/",
     "height": 1000
    },
    "id": "QoL87jbH-hN8",
    "outputId": "475cae0e-cffa-46fe-95b5-cf4fa2fdae73",
    "scrolled": false
   },
   "outputs": [
    {
     "name": "stdout",
     "output_type": "stream",
     "text": [
      "YearMonth: 2023-01\n",
      "Topik ke- 1\n",
      "yg voucer mantaf lazada krn\n",
      "\n",
      "Topik ke- 2\n",
      "yg voucer mantaf lazada krn\n",
      "\n",
      "Topik ke- 3\n",
      "promo melanggar lazada krn konsumen\n",
      "\n"
     ]
    },
    {
     "data": {
      "image/png": "[encoded data removed]",
      "text/plain": [
       "<Figure size 432x288 with 1 Axes>"
      ]
     },
     "metadata": {
      "needs_background": "light"
     },
     "output_type": "display_data"
    },
    {
     "name": "stdout",
     "output_type": "stream",
     "text": [
      "\n",
      "==============================================\n",
      "YearMonth: 2023-02\n",
      "Topik ke- 1\n",
      "barang ga tgl pengiriman nya\n",
      "\n",
      "Topik ke- 2\n",
      "yg feng kek kalo jijik\n",
      "\n",
      "Topik ke- 3\n",
      "yg feng kek kalo jijik\n",
      "\n"
     ]
    },
    {
     "data": {
      "image/png": "[encoded data removed]",
      "text/plain": [
       "<Figure size 432x288 with 1 Axes>"
      ]
     },
     "metadata": {
      "needs_background": "light"
     },
     "output_type": "display_data"
    },
    {
     "name": "stdout",
     "output_type": "stream",
     "text": [
      "\n",
      "==============================================\n",
      "YearMonth: 2023-03\n",
      "Topik ke- 1\n",
      "yg ongkir bebas berjalan buka\n",
      "\n",
      "Topik ke- 2\n",
      "skrng berbeda dgn email tokopedia\n",
      "\n",
      "Topik ke- 3\n",
      "yg ongkir bebas berjalan buka\n",
      "\n"
     ]
    },
    {
     "data": {
      "image/png": "[encoded data removed]",
      "text/plain": [
       "<Figure size 432x288 with 1 Axes>"
      ]
     },
     "metadata": {
      "needs_background": "light"
     },
     "output_type": "display_data"
    },
    {
     "name": "stdout",
     "output_type": "stream",
     "text": [
      "\n",
      "==============================================\n",
      "YearMonth: 2023-04\n",
      "Topik ke- 1\n",
      "belanja good yg top bagus\n",
      "\n",
      "Topik ke- 2\n",
      "yg kecewa bagus barang beli\n",
      "\n",
      "Topik ke- 3\n",
      "yg kecewa bagus barang beli\n",
      "\n"
     ]
    },
    {
     "data": {
      "image/png": "[encoded data removed]",
      "text/plain": [
       "<Figure size 432x288 with 1 Axes>"
      ]
     },
     "metadata": {
      "needs_background": "light"
     },
     "output_type": "display_data"
    },
    {
     "name": "stdout",
     "output_type": "stream",
     "text": [
      "\n",
      "==============================================\n",
      "YearMonth: 2023-05\n",
      "Topik ke- 1\n",
      "pikirkan tolong tokopedia\n",
      "\n",
      "Topik ke- 2\n",
      "tolong pikirkan tokopedia\n",
      "\n",
      "Topik ke- 3\n",
      "tokopedia tolong pikirkan\n",
      "\n"
     ]
    },
    {
     "data": {
      "image/png": "[encoded data removed]",
      "text/plain": [
       "<Figure size 432x288 with 1 Axes>"
      ]
     },
     "metadata": {
      "needs_background": "light"
     },
     "output_type": "display_data"
    },
    {
     "name": "stdout",
     "output_type": "stream",
     "text": [
      "\n",
      "==============================================\n"
     ]
    }
   ],
   "source": [
    "# Inisialisasi objek CountVectorizer\n",
    "vectorizer = CountVectorizer()\n",
    "\n",
    "for index, row in df.iterrows():\n",
    "    year_month = row['Month']\n",
    "    text = row['Summary']\n",
    "\n",
    "    # Membangun matriks frekuensi kata\n",
    "    X = vectorizer.fit_transform([text])\n",
    "\n",
    "    # Melatih model LDA\n",
    "    num_topics = 3  # Jumlah topik yang diinginkan\n",
    "    lda_model = LDA(n_components=num_topics)\n",
    "    lda_model.fit(X)\n",
    "\n",
    "    # Menampilkan kata-kata kunci untuk setiap topik\n",
    "    feature_names = vectorizer.get_feature_names_out()\n",
    "    print(\"YearMonth:\", year_month)\n",
    "    for topic_idx, topic in enumerate(lda_model.components_):\n",
    "        keywords = [feature_names[i] for i in topic.argsort()[:-6:-1]]\n",
    "        print(\"Topik ke-\", topic_idx+1)\n",
    "        print(\" \".join(keywords))\n",
    "        print()\n",
    "\n",
    "    # Visualisasi distribusi topik\n",
    "    topic_distribution = lda_model.transform(X)\n",
    "    plt.bar(range(num_topics), topic_distribution[0], align='center')\n",
    "    plt.xlabel('Topik')\n",
    "    plt.ylabel('Distribusi')\n",
    "    plt.title('Distribusi Topik untuk ' + year_month)\n",
    "    plt.xticks(range(num_topics))\n",
    "    plt.show()\n",
    "    print()\n",
    "    print(\"==============================================\")"
   ]
  },
  {
   "cell_type": "code",
   "execution_count": 6,
   "metadata": {
    "colab": {
     "base_uri": "https://localhost:8080/",
     "height": 638
    },
    "id": "M2fUjKsY-4m5",
    "outputId": "dc416ee9-eab9-494d-f383-dbba9c40025c"
   },
   "outputs": [
    {
     "name": "stdout",
     "output_type": "stream",
     "text": [
      "Topik ke- 1\n",
      "krn halo hemat hp iklan\n",
      "\n",
      "Topik ke- 2\n",
      "krn halo hemat hp iklan\n",
      "\n",
      "Topik ke- 3\n",
      "tokopedia yg barang ga pengiriman\n",
      "\n"
     ]
    },
    {
     "data": {
      "image/png": "[encoded data removed]",
      "text/plain": [
       "<Figure size 432x288 with 1 Axes>"
      ]
     },
     "metadata": {
      "needs_background": "light"
     },
     "output_type": "display_data"
    }
   ],
   "source": [
    "# Menggabungkan semua teks menjadi satu\n",
    "keseluruhan_kalimat = ' '.join(df['Summary'])\n",
    "\n",
    "X = vectorizer.fit_transform([keseluruhan_kalimat])\n",
    "\n",
    "num_topics = 3\n",
    "lda_model = LDA(n_components=num_topics)\n",
    "lda_model.fit(X)\n",
    "\n",
    "feature_names = vectorizer.get_feature_names_out()\n",
    "for topic_idx, topic in enumerate(lda_model.components_):\n",
    "    keywords = [feature_names[i] for i in topic.argsort()[:-6:-1]]\n",
    "    print(\"Topik ke-\", topic_idx+1)\n",
    "    print(\" \".join(keywords))\n",
    "    print()\n",
    "\n",
    "# Visualisasi distribusi topik\n",
    "topic_distribution = lda_model.transform(X)\n",
    "plt.bar(range(num_topics), topic_distribution[0], align='center')\n",
    "plt.xlabel('Topik')\n",
    "plt.ylabel('Distribusi')\n",
    "plt.title('Distribusi Topik')\n",
    "plt.xticks(range(num_topics))\n",
    "plt.show()"
   ]
  }
 ],
 "metadata": {
  "colab": {
   "provenance": []
  },
  "kernelspec": {
   "display_name": "Python 3",
   "language": "python",
   "name": "python3"
  },
  "language_info": {
   "codemirror_mode": {
    "name": "ipython",
    "version": 3
   },
   "file_extension": ".py",
   "mimetype": "text/x-python",
   "name": "python",
   "nbconvert_exporter": "python",
   "pygments_lexer": "ipython3",
   "version": "3.8.3"
  }
 },
 "nbformat": 4,
 "nbformat_minor": 1
}
