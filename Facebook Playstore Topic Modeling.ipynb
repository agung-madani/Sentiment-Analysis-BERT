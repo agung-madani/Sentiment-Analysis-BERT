{
 "cells": [
  {
   "cell_type": "code",
   "execution_count": 1,
   "metadata": {},
   "outputs": [],
   "source": [
    "def preprocess_comment(comment):\n",
    "    # Tokenization\n",
    "    tokens = nltk.word_tokenize(comment)\n",
    "\n",
    "    # Remove URL/HTTP\n",
    "    tokens = [re.sub(r'http\\S+|www.\\S+', '', token) for token in tokens]\n",
    "\n",
    "    # Remove hashtags\n",
    "    tokens = [token for token in tokens if not token.startswith('#')]\n",
    "\n",
    "    # Remove usernames/user mentions\n",
    "    tokens = [token for token in tokens if not token.startswith('@')]\n",
    "\n",
    "    # Menghilangkan emotikon\n",
    "    tokens = [re.sub(r'[^\\w\\s\\d]', '', token) for token in tokens]\n",
    "\n",
    "    # Remove symbols and numbers\n",
    "    tokens = [re.sub(r'[^a-zA-Z]', '', token) for token in tokens]\n",
    "\n",
    "    # Lowercase\n",
    "    tokens = [token.lower() for token in tokens]\n",
    "\n",
    "    # Remove stopwords\n",
    "    stopwords = set(nltk.corpus.stopwords.words('english'))\n",
    "    tokens = [token for token in tokens if token not in stopwords]\n",
    "\n",
    "    # Join tokens back to a single string\n",
    "    preprocessed_comment = ' '.join(tokens)\n",
    "\n",
    "    return preprocessed_comment"
   ]
  },
  {
   "cell_type": "code",
   "execution_count": 2,
   "metadata": {
    "id": "9F6djHYz8KMX"
   },
   "outputs": [],
   "source": [
    "import pandas as pd\n",
    "from sklearn.decomposition import LatentDirichletAllocation as LDA\n",
    "from sklearn.feature_extraction.text import CountVectorizer\n",
    "import matplotlib.pyplot as plt\n",
    "import re\n",
    "import matplotlib.pyplot as plt\n",
    "import nltk\n",
    "from nltk.corpus import stopwords"
   ]
  },
  {
   "cell_type": "code",
   "execution_count": 3,
   "metadata": {
    "id": "t_acgzxy-VcW"
   },
   "outputs": [],
   "source": [
    "df = pd.read_csv(\"Summarization 500 sentiment facebook playstore.csv\", header=0, parse_dates=[0], index_col=0)\n",
    "df['Summary'] = df['Summary'].apply(preprocess_comment)"
   ]
  },
  {
   "cell_type": "code",
   "execution_count": 4,
   "metadata": {
    "colab": {
     "base_uri": "https://localhost:8080/",
     "height": 614
    },
    "id": "N36KS7Zk-gru",
    "outputId": "71d724bf-accc-4391-e501-a711b1bb3ebf"
   },
   "outputs": [
    {
     "data": {
      "text/html": [
       "<div>\n",
       "<style scoped>\n",
       "    .dataframe tbody tr th:only-of-type {\n",
       "        vertical-align: middle;\n",
       "    }\n",
       "\n",
       "    .dataframe tbody tr th {\n",
       "        vertical-align: top;\n",
       "    }\n",
       "\n",
       "    .dataframe thead th {\n",
       "        text-align: right;\n",
       "    }\n",
       "</style>\n",
       "<table border=\"1\" class=\"dataframe\">\n",
       "  <thead>\n",
       "    <tr style=\"text-align: right;\">\n",
       "      <th></th>\n",
       "      <th>Original</th>\n",
       "      <th>Summary</th>\n",
       "      <th>Sentiment</th>\n",
       "    </tr>\n",
       "  </thead>\n",
       "  <tbody>\n",
       "    <tr>\n",
       "      <th>0</th>\n",
       "      <td>Very good app</td>\n",
       "      <td>good app</td>\n",
       "      <td>1</td>\n",
       "    </tr>\n",
       "    <tr>\n",
       "      <th>1</th>\n",
       "      <td>I hate answering questions .</td>\n",
       "      <td>hate answering questions</td>\n",
       "      <td>-1</td>\n",
       "    </tr>\n",
       "    <tr>\n",
       "      <th>2</th>\n",
       "      <td>It's a very useful app this app change my life...</td>\n",
       "      <td>useful app app change lifestyle improve langua...</td>\n",
       "      <td>1</td>\n",
       "    </tr>\n",
       "    <tr>\n",
       "      <th>3</th>\n",
       "      <td>Thanks for your time today</td>\n",
       "      <td>thanks time today</td>\n",
       "      <td>1</td>\n",
       "    </tr>\n",
       "    <tr>\n",
       "      <th>4</th>\n",
       "      <td>good face book</td>\n",
       "      <td>good face book</td>\n",
       "      <td>1</td>\n",
       "    </tr>\n",
       "    <tr>\n",
       "      <th>...</th>\n",
       "      <td>...</td>\n",
       "      <td>...</td>\n",
       "      <td>...</td>\n",
       "    </tr>\n",
       "    <tr>\n",
       "      <th>495</th>\n",
       "      <td>Good.appp</td>\n",
       "      <td>goodappp</td>\n",
       "      <td>1</td>\n",
       "    </tr>\n",
       "    <tr>\n",
       "      <th>496</th>\n",
       "      <td>Why free facebook...</td>\n",
       "      <td>free facebook</td>\n",
       "      <td>-1</td>\n",
       "    </tr>\n",
       "    <tr>\n",
       "      <th>497</th>\n",
       "      <td>My id Is disable in on any reason</td>\n",
       "      <td>id disable reason</td>\n",
       "      <td>-1</td>\n",
       "    </tr>\n",
       "    <tr>\n",
       "      <th>498</th>\n",
       "      <td>Update the app so that when you use Facebook m...</td>\n",
       "      <td>right  slide picture picture gets covered prof...</td>\n",
       "      <td>0</td>\n",
       "    </tr>\n",
       "    <tr>\n",
       "      <th>499</th>\n",
       "      <td>Cool</td>\n",
       "      <td>cool</td>\n",
       "      <td>1</td>\n",
       "    </tr>\n",
       "  </tbody>\n",
       "</table>\n",
       "<p>500 rows × 3 columns</p>\n",
       "</div>"
      ],
      "text/plain": [
       "                                              Original  \\\n",
       "0                                        Very good app   \n",
       "1                         I hate answering questions .   \n",
       "2    It's a very useful app this app change my life...   \n",
       "3                           Thanks for your time today   \n",
       "4                                       good face book   \n",
       "..                                                 ...   \n",
       "495                                          Good.appp   \n",
       "496                               Why free facebook...   \n",
       "497                  My id Is disable in on any reason   \n",
       "498  Update the app so that when you use Facebook m...   \n",
       "499                                               Cool   \n",
       "\n",
       "                                               Summary  Sentiment  \n",
       "0                                             good app          1  \n",
       "1                            hate answering questions          -1  \n",
       "2    useful app app change lifestyle improve langua...          1  \n",
       "3                                    thanks time today          1  \n",
       "4                                       good face book          1  \n",
       "..                                                 ...        ...  \n",
       "495                                           goodappp          1  \n",
       "496                                     free facebook          -1  \n",
       "497                                  id disable reason         -1  \n",
       "498  right  slide picture picture gets covered prof...          0  \n",
       "499                                               cool          1  \n",
       "\n",
       "[500 rows x 3 columns]"
      ]
     },
     "execution_count": 4,
     "metadata": {},
     "output_type": "execute_result"
    }
   ],
   "source": [
    "df"
   ]
  },
  {
   "cell_type": "code",
   "execution_count": 5,
   "metadata": {
    "scrolled": true
   },
   "outputs": [],
   "source": [
    "# Separate each sample based on sentiment\n",
    "positive_df = df[df['Sentiment'] == 1]\n",
    "neutral_df = df[df['Sentiment'] == 0]\n",
    "negative_df = df[df['Sentiment'] == -1]\n"
   ]
  },
  {
   "cell_type": "code",
   "execution_count": 16,
   "metadata": {},
   "outputs": [
    {
     "name": "stdout",
     "output_type": "stream",
     "text": [
      "Topik ke- 1\n",
      "zagarbark helpfull helps hi highly\n",
      "\n",
      "Topik ke- 2\n",
      "app good very it is\n",
      "\n",
      "Topik ke- 3\n",
      "zagarbark helpfull helps hi highly\n",
      "\n"
     ]
    },
    {
     "data": {
      "image/png": "[encoded data removed]",
      "text/plain": [
       "<Figure size 432x288 with 1 Axes>"
      ]
     },
     "metadata": {
      "needs_background": "light"
     },
     "output_type": "display_data"
    }
   ],
   "source": [
    "# Inisialisasi objek CountVectorizer\n",
    "vectorizer = CountVectorizer()\n",
    "\n",
    "# Menggabungkan semua teks menjadi satu\n",
    "keseluruhan_positif = ' '.join(positive_df['Summary'])\n",
    "\n",
    "X = vectorizer.fit_transform([keseluruhan_positif])\n",
    "\n",
    "num_topics = 3\n",
    "lda_model = LDA(n_components=num_topics)\n",
    "lda_model.fit(X)\n",
    "\n",
    "feature_names = vectorizer.get_feature_names_out()\n",
    "for topic_idx, topic in enumerate(lda_model.components_):\n",
    "    keywords = [feature_names[i] for i in topic.argsort()[:-6:-1]]\n",
    "    print(\"Topik ke-\", topic_idx+1)\n",
    "    print(\" \".join(keywords))\n",
    "    print()\n",
    "\n",
    "# Visualisasi distribusi topik\n",
    "topic_distribution = lda_model.transform(X)\n",
    "plt.bar(range(num_topics), topic_distribution[0], align='center')\n",
    "plt.xlabel('Topik')\n",
    "plt.ylabel('Distribusi')\n",
    "plt.title('Distribusi Topik Positif')\n",
    "plt.xticks(range(num_topics))\n",
    "plt.show()"
   ]
  },
  {
   "cell_type": "code",
   "execution_count": 17,
   "metadata": {},
   "outputs": [
    {
     "name": "stdout",
     "output_type": "stream",
     "text": [
      "Topik ke- 1\n",
      "the and is to you\n",
      "\n",
      "Topik ke- 2\n",
      "youtube having help hi hone\n",
      "\n",
      "Topik ke- 3\n",
      "youtube having help hi hone\n",
      "\n"
     ]
    },
    {
     "data": {
      "image/png": "[encoded data removed]",
      "text/plain": [
       "<Figure size 432x288 with 1 Axes>"
      ]
     },
     "metadata": {
      "needs_background": "light"
     },
     "output_type": "display_data"
    }
   ],
   "source": [
    "# Inisialisasi objek CountVectorizer\n",
    "vectorizer = CountVectorizer()\n",
    "\n",
    "# Menggabungkan semua teks menjadi satu\n",
    "keseluruhan_netral = ' '.join(neutral_df['Summary'])\n",
    "\n",
    "X = vectorizer.fit_transform([keseluruhan_netral])\n",
    "\n",
    "num_topics = 3\n",
    "lda_model = LDA(n_components=num_topics)\n",
    "lda_model.fit(X)\n",
    "\n",
    "feature_names = vectorizer.get_feature_names_out()\n",
    "for topic_idx, topic in enumerate(lda_model.components_):\n",
    "    keywords = [feature_names[i] for i in topic.argsort()[:-6:-1]]\n",
    "    print(\"Topik ke-\", topic_idx+1)\n",
    "    print(\" \".join(keywords))\n",
    "    print()\n",
    "\n",
    "# Visualisasi distribusi topik\n",
    "topic_distribution = lda_model.transform(X)\n",
    "plt.bar(range(num_topics), topic_distribution[0], align='center')\n",
    "plt.xlabel('Topik')\n",
    "plt.ylabel('Distribusi')\n",
    "plt.title('Distribusi Topik Netral')\n",
    "plt.xticks(range(num_topics))\n",
    "plt.show()"
   ]
  },
  {
   "cell_type": "code",
   "execution_count": 18,
   "metadata": {},
   "outputs": [
    {
     "name": "stdout",
     "output_type": "stream",
     "text": [
      "Topik ke- 1\n",
      "बल ignore huuuhuhuhuhuhu hurt hungry\n",
      "\n",
      "Topik ke- 2\n",
      "to facebook and my it\n",
      "\n",
      "Topik ke- 3\n",
      "बल ignore huuuhuhuhuhuhu hurt hungry\n",
      "\n"
     ]
    },
    {
     "data": {
      "image/png": "[encoded data removed]",
      "text/plain": [
       "<Figure size 432x288 with 1 Axes>"
      ]
     },
     "metadata": {
      "needs_background": "light"
     },
     "output_type": "display_data"
    }
   ],
   "source": [
    "# Inisialisasi objek CountVectorizer\n",
    "vectorizer = CountVectorizer()\n",
    "\n",
    "# Menggabungkan semua teks menjadi satu\n",
    "keseluruhan_negatif = ' '.join(negative_df['Summary'])\n",
    "\n",
    "X = vectorizer.fit_transform([keseluruhan_negatif])\n",
    "\n",
    "num_topics = 3\n",
    "lda_model = LDA(n_components=num_topics)\n",
    "lda_model.fit(X)\n",
    "\n",
    "feature_names = vectorizer.get_feature_names_out()\n",
    "for topic_idx, topic in enumerate(lda_model.components_):\n",
    "    keywords = [feature_names[i] for i in topic.argsort()[:-6:-1]]\n",
    "    print(\"Topik ke-\", topic_idx+1)\n",
    "    print(\" \".join(keywords))\n",
    "    print()\n",
    "\n",
    "# Visualisasi distribusi topik\n",
    "topic_distribution = lda_model.transform(X)\n",
    "plt.bar(range(num_topics), topic_distribution[0], align='center')\n",
    "plt.xlabel('Topik')\n",
    "plt.ylabel('Distribusi')\n",
    "plt.title('Distribusi Topik negatif')\n",
    "plt.xticks(range(num_topics))\n",
    "plt.show()"
   ]
  },
  {
   "cell_type": "code",
   "execution_count": 11,
   "metadata": {
    "colab": {
     "base_uri": "https://localhost:8080/",
     "height": 1000
    },
    "id": "QoL87jbH-hN8",
    "outputId": "475cae0e-cffa-46fe-95b5-cf4fa2fdae73",
    "scrolled": false
   },
   "outputs": [
    {
     "name": "stdout",
     "output_type": "stream",
     "text": [
      "YearMonth: 2023-05\n",
      "Topik ke- 1\n",
      "view videos time thank subhan\n",
      "\n",
      "Topik ke- 2\n",
      "good view videos time thank\n",
      "\n",
      "Topik ke- 3\n",
      "view videos time thank subhan\n",
      "\n"
     ]
    },
    {
     "data": {
      "image/png": "[encoded data removed]",
      "text/plain": [
       "<Figure size 432x288 with 1 Axes>"
      ]
     },
     "metadata": {
      "needs_background": "light"
     },
     "output_type": "display_data"
    },
    {
     "name": "stdout",
     "output_type": "stream",
     "text": [
      "\n",
      "==============================================\n"
     ]
    }
   ],
   "source": [
    "# Inisialisasi objek CountVectorizer\n",
    "vectorizer = CountVectorizer()\n",
    "\n",
    "for index, row in df.iterrows():\n",
    "    year_month = row['Month']\n",
    "    text = row['Summary']\n",
    "\n",
    "    # Membangun matriks frekuensi kata\n",
    "    X = vectorizer.fit_transform([text])\n",
    "\n",
    "    # Melatih model LDA\n",
    "    num_topics = 3  # Jumlah topik yang diinginkan\n",
    "    lda_model = LDA(n_components=num_topics)\n",
    "    lda_model.fit(X)\n",
    "\n",
    "    # Menampilkan kata-kata kunci untuk setiap topik\n",
    "    feature_names = vectorizer.get_feature_names_out()\n",
    "    print(\"YearMonth:\", year_month)\n",
    "    for topic_idx, topic in enumerate(lda_model.components_):\n",
    "        keywords = [feature_names[i] for i in topic.argsort()[:-6:-1]]\n",
    "        print(\"Topik ke-\", topic_idx+1)\n",
    "        print(\" \".join(keywords))\n",
    "        print()\n",
    "\n",
    "    # Visualisasi distribusi topik\n",
    "    topic_distribution = lda_model.transform(X)\n",
    "    plt.bar(range(num_topics), topic_distribution[0], align='center')\n",
    "    plt.xlabel('Topik')\n",
    "    plt.ylabel('Distribusi')\n",
    "    plt.title('Distribusi Topik untuk ' + year_month)\n",
    "    plt.xticks(range(num_topics))\n",
    "    plt.show()\n",
    "    print()\n",
    "    print(\"==============================================\")"
   ]
  },
  {
   "cell_type": "code",
   "execution_count": 12,
   "metadata": {
    "colab": {
     "base_uri": "https://localhost:8080/",
     "height": 638
    },
    "id": "M2fUjKsY-4m5",
    "outputId": "dc416ee9-eab9-494d-f383-dbba9c40025c"
   },
   "outputs": [
    {
     "name": "stdout",
     "output_type": "stream",
     "text": [
      "Topik ke- 1\n",
      "good view videos time thank\n",
      "\n",
      "Topik ke- 2\n",
      "view videos time thank subhan\n",
      "\n",
      "Topik ke- 3\n",
      "view videos time thank subhan\n",
      "\n"
     ]
    },
    {
     "data": {
      "image/png": "[encoded data removed]",
      "text/plain": [
       "<Figure size 432x288 with 1 Axes>"
      ]
     },
     "metadata": {
      "needs_background": "light"
     },
     "output_type": "display_data"
    }
   ],
   "source": [
    "# Menggabungkan semua teks menjadi satu\n",
    "keseluruhan_kalimat = ' '.join(df['Summary'])\n",
    "\n",
    "X = vectorizer.fit_transform([keseluruhan_kalimat])\n",
    "\n",
    "num_topics = 3\n",
    "lda_model = LDA(n_components=num_topics)\n",
    "lda_model.fit(X)\n",
    "\n",
    "feature_names = vectorizer.get_feature_names_out()\n",
    "for topic_idx, topic in enumerate(lda_model.components_):\n",
    "    keywords = [feature_names[i] for i in topic.argsort()[:-6:-1]]\n",
    "    print(\"Topik ke-\", topic_idx+1)\n",
    "    print(\" \".join(keywords))\n",
    "    print()\n",
    "\n",
    "# Visualisasi distribusi topik\n",
    "topic_distribution = lda_model.transform(X)\n",
    "plt.bar(range(num_topics), topic_distribution[0], align='center')\n",
    "plt.xlabel('Topik')\n",
    "plt.ylabel('Distribusi')\n",
    "plt.title('Distribusi Topik')\n",
    "plt.xticks(range(num_topics))\n",
    "plt.show()"
   ]
  },
  {
   "cell_type": "code",
   "execution_count": null,
   "metadata": {},
   "outputs": [],
   "source": []
  }
 ],
 "metadata": {
  "colab": {
   "provenance": []
  },
  "kernelspec": {
   "display_name": "Python 3",
   "language": "python",
   "name": "python3"
  },
  "language_info": {
   "codemirror_mode": {
    "name": "ipython",
    "version": 3
   },
   "file_extension": ".py",
   "mimetype": "text/x-python",
   "name": "python",
   "nbconvert_exporter": "python",
   "pygments_lexer": "ipython3",
   "version": "3.8.3"
  }
 },
 "nbformat": 4,
 "nbformat_minor": 1
}
