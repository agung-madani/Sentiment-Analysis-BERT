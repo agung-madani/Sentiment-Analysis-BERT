{
 "cells": [
  {
   "cell_type": "code",
   "execution_count": 3,
   "metadata": {},
   "outputs": [],
   "source": [
    "def preprocess_comment(comment):\n",
    "    # Tokenization\n",
    "    tokens = nltk.word_tokenize(comment)\n",
    "\n",
    "    # Remove URL/HTTP\n",
    "    tokens = [re.sub(r'http\\S+|www.\\S+', '', token) for token in tokens]\n",
    "\n",
    "    # Remove hashtags\n",
    "    tokens = [token for token in tokens if not token.startswith('#')]\n",
    "\n",
    "    # Remove usernames/user mentions\n",
    "    tokens = [token for token in tokens if not token.startswith('@')]\n",
    "\n",
    "    # Menghilangkan emotikon\n",
    "    tokens = [re.sub(r'[^\\w\\s\\d]', '', token) for token in tokens]\n",
    "\n",
    "    # Remove symbols and numbers\n",
    "    tokens = [re.sub(r'[^a-zA-Z]', '', token) for token in tokens]\n",
    "\n",
    "    # Lowercase\n",
    "    tokens = [token.lower() for token in tokens]\n",
    "\n",
    "    # Remove stopwords\n",
    "    stopwords = set(nltk.corpus.stopwords.words('indonesian'))\n",
    "    tokens = [token for token in tokens if token not in stopwords]\n",
    "\n",
    "    # Join tokens back to a single string\n",
    "    preprocessed_comment = ' '.join(tokens)\n",
    "\n",
    "    return preprocessed_comment"
   ]
  },
  {
   "cell_type": "code",
   "execution_count": 1,
   "metadata": {
    "id": "9F6djHYz8KMX"
   },
   "outputs": [],
   "source": [
    "import pandas as pd\n",
    "from sklearn.decomposition import LatentDirichletAllocation as LDA\n",
    "from sklearn.feature_extraction.text import CountVectorizer\n",
    "import matplotlib.pyplot as plt\n",
    "import re\n",
    "import matplotlib.pyplot as plt\n",
    "import nltk\n",
    "from nltk.corpus import stopwords"
   ]
  },
  {
   "cell_type": "code",
   "execution_count": 4,
   "metadata": {
    "id": "t_acgzxy-VcW"
   },
   "outputs": [],
   "source": [
    "df = pd.read_csv(\"Summarization 539 sentiment tokopedia appstore.csv\", header=0, parse_dates=[0], index_col=0)\n",
    "df['Summary'] = df['Summary'].apply(preprocess_comment)"
   ]
  },
  {
   "cell_type": "code",
   "execution_count": 5,
   "metadata": {
    "colab": {
     "base_uri": "https://localhost:8080/",
     "height": 614
    },
    "id": "N36KS7Zk-gru",
    "outputId": "71d724bf-accc-4391-e501-a711b1bb3ebf"
   },
   "outputs": [
    {
     "data": {
      "text/html": [
       "<div>\n",
       "<style scoped>\n",
       "    .dataframe tbody tr th:only-of-type {\n",
       "        vertical-align: middle;\n",
       "    }\n",
       "\n",
       "    .dataframe tbody tr th {\n",
       "        vertical-align: top;\n",
       "    }\n",
       "\n",
       "    .dataframe thead th {\n",
       "        text-align: right;\n",
       "    }\n",
       "</style>\n",
       "<table border=\"1\" class=\"dataframe\">\n",
       "  <thead>\n",
       "    <tr style=\"text-align: right;\">\n",
       "      <th></th>\n",
       "      <th>Original</th>\n",
       "      <th>Summary</th>\n",
       "      <th>Sentiment</th>\n",
       "    </tr>\n",
       "  </thead>\n",
       "  <tbody>\n",
       "    <tr>\n",
       "      <th>0</th>\n",
       "      <td>Toko nya bagus-bagus, rekomendasinya ok-2👍🏻</td>\n",
       "      <td>toko nya bagusbagus  rekomendasinya ok</td>\n",
       "      <td>1</td>\n",
       "    </tr>\n",
       "    <tr>\n",
       "      <th>1</th>\n",
       "      <td>belanja online , tokopedia aja, ga ada barang ...</td>\n",
       "      <td>nya thx tokopedia</td>\n",
       "      <td>1</td>\n",
       "    </tr>\n",
       "    <tr>\n",
       "      <th>2</th>\n",
       "      <td>Transaksi mudah. Free ongkir selalu ada.</td>\n",
       "      <td>free ongkir</td>\n",
       "      <td>1</td>\n",
       "    </tr>\n",
       "    <tr>\n",
       "      <th>3</th>\n",
       "      <td>Masa simpan history kartu kredit harus bayar 10rb</td>\n",
       "      <td>simpan history kartu kredit bayar rb</td>\n",
       "      <td>-1</td>\n",
       "    </tr>\n",
       "    <tr>\n",
       "      <th>4</th>\n",
       "      <td>jumlah item harga tertinggi dan terendah nggak...</td>\n",
       "      <td>item harga tertinggi terendah nggak  kupon cas...</td>\n",
       "      <td>-1</td>\n",
       "    </tr>\n",
       "    <tr>\n",
       "      <th>...</th>\n",
       "      <td>...</td>\n",
       "      <td>...</td>\n",
       "      <td>...</td>\n",
       "    </tr>\n",
       "    <tr>\n",
       "      <th>534</th>\n",
       "      <td>Notifikasi di ios terbaru terakumulasi, setela...</td>\n",
       "      <td>notifikasi ios terbaru terakumulasi  app dibuk...</td>\n",
       "      <td>-1</td>\n",
       "    </tr>\n",
       "    <tr>\n",
       "      <th>535</th>\n",
       "      <td>Bagus dan mudah banget</td>\n",
       "      <td>bagus mudah banget</td>\n",
       "      <td>1</td>\n",
       "    </tr>\n",
       "    <tr>\n",
       "      <th>536</th>\n",
       "      <td>Msih nyaman</td>\n",
       "      <td>msih nyaman</td>\n",
       "      <td>1</td>\n",
       "    </tr>\n",
       "    <tr>\n",
       "      <th>537</th>\n",
       "      <td>Setelah diupdate kenapa sering crash ya?teruta...</td>\n",
       "      <td>diupdate crash ya  klo akses tokopedia now  ma...</td>\n",
       "      <td>-1</td>\n",
       "    </tr>\n",
       "    <tr>\n",
       "      <th>538</th>\n",
       "      <td>Banyak promo gratis ongkir</td>\n",
       "      <td>promo gratis ongkir</td>\n",
       "      <td>1</td>\n",
       "    </tr>\n",
       "  </tbody>\n",
       "</table>\n",
       "<p>539 rows × 3 columns</p>\n",
       "</div>"
      ],
      "text/plain": [
       "                                              Original  \\\n",
       "0          Toko nya bagus-bagus, rekomendasinya ok-2👍🏻   \n",
       "1    belanja online , tokopedia aja, ga ada barang ...   \n",
       "2             Transaksi mudah. Free ongkir selalu ada.   \n",
       "3    Masa simpan history kartu kredit harus bayar 10rb   \n",
       "4    jumlah item harga tertinggi dan terendah nggak...   \n",
       "..                                                 ...   \n",
       "534  Notifikasi di ios terbaru terakumulasi, setela...   \n",
       "535                             Bagus dan mudah banget   \n",
       "536                                        Msih nyaman   \n",
       "537  Setelah diupdate kenapa sering crash ya?teruta...   \n",
       "538                         Banyak promo gratis ongkir   \n",
       "\n",
       "                                               Summary  Sentiment  \n",
       "0               toko nya bagusbagus  rekomendasinya ok          1  \n",
       "1                                    nya thx tokopedia          1  \n",
       "2                                         free ongkir           1  \n",
       "3                 simpan history kartu kredit bayar rb         -1  \n",
       "4    item harga tertinggi terendah nggak  kupon cas...         -1  \n",
       "..                                                 ...        ...  \n",
       "534  notifikasi ios terbaru terakumulasi  app dibuk...         -1  \n",
       "535                                 bagus mudah banget          1  \n",
       "536                                        msih nyaman          1  \n",
       "537  diupdate crash ya  klo akses tokopedia now  ma...         -1  \n",
       "538                                promo gratis ongkir          1  \n",
       "\n",
       "[539 rows x 3 columns]"
      ]
     },
     "execution_count": 5,
     "metadata": {},
     "output_type": "execute_result"
    }
   ],
   "source": [
    "df"
   ]
  },
  {
   "cell_type": "code",
   "execution_count": 6,
   "metadata": {
    "scrolled": true
   },
   "outputs": [],
   "source": [
    "# Separate each sample based on sentiment\n",
    "positive_df = df[df['Sentiment'] == 1]\n",
    "neutral_df = df[df['Sentiment'] == 0]\n",
    "negative_df = df[df['Sentiment'] == -1]"
   ]
  },
  {
   "cell_type": "code",
   "execution_count": 5,
   "metadata": {},
   "outputs": [
    {
     "name": "stdout",
     "output_type": "stream",
     "text": [
      "Topik ke- 1\n",
      "yuksss khususnya kesini kesehatan kesayangan\n",
      "\n",
      "Topik ke- 2\n",
      "dan mudah tokopedia sangat banyak\n",
      "\n",
      "Topik ke- 3\n",
      "yuksss khususnya kesini kesehatan kesayangan\n",
      "\n"
     ]
    },
    {
     "data": {
      "image/png": "[encoded data removed]",
      "text/plain": [
       "<Figure size 432x288 with 1 Axes>"
      ]
     },
     "metadata": {
      "needs_background": "light"
     },
     "output_type": "display_data"
    }
   ],
   "source": [
    "# Inisialisasi objek CountVectorizer\n",
    "vectorizer = CountVectorizer()\n",
    "\n",
    "# Menggabungkan semua teks menjadi satu\n",
    "keseluruhan_positif = ' '.join(positive_df['Summary'])\n",
    "\n",
    "X = vectorizer.fit_transform([keseluruhan_positif])\n",
    "\n",
    "num_topics = 3\n",
    "lda_model = LDA(n_components=num_topics)\n",
    "lda_model.fit(X)\n",
    "\n",
    "feature_names = vectorizer.get_feature_names_out()\n",
    "for topic_idx, topic in enumerate(lda_model.components_):\n",
    "    keywords = [feature_names[i] for i in topic.argsort()[:-6:-1]]\n",
    "    print(\"Topik ke-\", topic_idx+1)\n",
    "    print(\" \".join(keywords))\n",
    "    print()\n",
    "\n",
    "# Visualisasi distribusi topik\n",
    "topic_distribution = lda_model.transform(X)\n",
    "plt.bar(range(num_topics), topic_distribution[0], align='center')\n",
    "plt.xlabel('Topik')\n",
    "plt.ylabel('Distribusi')\n",
    "plt.title('Distribusi Topik Positif')\n",
    "plt.xticks(range(num_topics))\n",
    "plt.show()"
   ]
  },
  {
   "cell_type": "code",
   "execution_count": 6,
   "metadata": {},
   "outputs": [
    {
     "name": "stdout",
     "output_type": "stream",
     "text": [
      "Topik ke- 1\n",
      "yg nya dan aplikasi ada\n",
      "\n",
      "Topik ke- 2\n",
      "layanan karena ganti gitu gue\n",
      "\n",
      "Topik ke- 3\n",
      "layanan karena ganti gitu gue\n",
      "\n"
     ]
    },
    {
     "data": {
      "image/png": "[encoded data removed]",
      "text/plain": [
       "<Figure size 432x288 with 1 Axes>"
      ]
     },
     "metadata": {
      "needs_background": "light"
     },
     "output_type": "display_data"
    }
   ],
   "source": [
    "# Inisialisasi objek CountVectorizer\n",
    "vectorizer = CountVectorizer()\n",
    "\n",
    "# Menggabungkan semua teks menjadi satu\n",
    "keseluruhan_netral = ' '.join(neutral_df['Summary'])\n",
    "\n",
    "X = vectorizer.fit_transform([keseluruhan_netral])\n",
    "\n",
    "num_topics = 3\n",
    "lda_model = LDA(n_components=num_topics)\n",
    "lda_model.fit(X)\n",
    "\n",
    "feature_names = vectorizer.get_feature_names_out()\n",
    "for topic_idx, topic in enumerate(lda_model.components_):\n",
    "    keywords = [feature_names[i] for i in topic.argsort()[:-6:-1]]\n",
    "    print(\"Topik ke-\", topic_idx+1)\n",
    "    print(\" \".join(keywords))\n",
    "    print()\n",
    "\n",
    "# Visualisasi distribusi topik\n",
    "topic_distribution = lda_model.transform(X)\n",
    "plt.bar(range(num_topics), topic_distribution[0], align='center')\n",
    "plt.xlabel('Topik')\n",
    "plt.ylabel('Distribusi')\n",
    "plt.title('Distribusi Topik Netral')\n",
    "plt.xticks(range(num_topics))\n",
    "plt.show()"
   ]
  },
  {
   "cell_type": "code",
   "execution_count": 7,
   "metadata": {},
   "outputs": [
    {
     "name": "stdout",
     "output_type": "stream",
     "text": [
      "Topik ke- 1\n",
      "ada ga di dan biaya\n",
      "\n",
      "Topik ke- 2\n",
      "you hiks history ilang ina\n",
      "\n",
      "Topik ke- 3\n",
      "you hiks history ilang ina\n",
      "\n"
     ]
    },
    {
     "data": {
      "image/png": "[encoded data removed]",
      "text/plain": [
       "<Figure size 432x288 with 1 Axes>"
      ]
     },
     "metadata": {
      "needs_background": "light"
     },
     "output_type": "display_data"
    }
   ],
   "source": [
    "# Inisialisasi objek CountVectorizer\n",
    "vectorizer = CountVectorizer()\n",
    "\n",
    "# Menggabungkan semua teks menjadi satu\n",
    "keseluruhan_negatif = ' '.join(negative_df['Summary'])\n",
    "\n",
    "X = vectorizer.fit_transform([keseluruhan_negatif])\n",
    "\n",
    "num_topics = 3\n",
    "lda_model = LDA(n_components=num_topics)\n",
    "lda_model.fit(X)\n",
    "\n",
    "feature_names = vectorizer.get_feature_names_out()\n",
    "for topic_idx, topic in enumerate(lda_model.components_):\n",
    "    keywords = [feature_names[i] for i in topic.argsort()[:-6:-1]]\n",
    "    print(\"Topik ke-\", topic_idx+1)\n",
    "    print(\" \".join(keywords))\n",
    "    print()\n",
    "\n",
    "# Visualisasi distribusi topik\n",
    "topic_distribution = lda_model.transform(X)\n",
    "plt.bar(range(num_topics), topic_distribution[0], align='center')\n",
    "plt.xlabel('Topik')\n",
    "plt.ylabel('Distribusi')\n",
    "plt.title('Distribusi Topik negatif')\n",
    "plt.xticks(range(num_topics))\n",
    "plt.show()"
   ]
  },
  {
   "cell_type": "code",
   "execution_count": 16,
   "metadata": {
    "colab": {
     "base_uri": "https://localhost:8080/",
     "height": 1000
    },
    "id": "QoL87jbH-hN8",
    "outputId": "475cae0e-cffa-46fe-95b5-cf4fa2fdae73",
    "scrolled": false
   },
   "outputs": [
    {
     "name": "stdout",
     "output_type": "stream",
     "text": [
      "YearMonth: 2023-02\n",
      "Topik ke- 1\n",
      "promo ya membantu balikin cashback\n",
      "\n",
      "Topik ke- 2\n",
      "ya membantu balikin cashback gratis\n",
      "\n",
      "Topik ke- 3\n",
      "ya membantu balikin cashback gratis\n",
      "\n"
     ]
    },
    {
     "data": {
      "image/png": "[encoded data removed]",
      "text/plain": [
       "<Figure size 432x288 with 1 Axes>"
      ]
     },
     "metadata": {
      "needs_background": "light"
     },
     "output_type": "display_data"
    },
    {
     "name": "stdout",
     "output_type": "stream",
     "text": [
      "\n",
      "==============================================\n",
      "YearMonth: 2023-03\n",
      "Topik ke- 1\n",
      "yg metode banget barang diskon\n",
      "\n",
      "Topik ke- 2\n",
      "belanja lancar fake puas yg\n",
      "\n",
      "Topik ke- 3\n",
      "yg metode banget barang diskon\n",
      "\n"
     ]
    },
    {
     "data": {
      "image/png": "[encoded data removed]",
      "text/plain": [
       "<Figure size 432x288 with 1 Axes>"
      ]
     },
     "metadata": {
      "needs_background": "light"
     },
     "output_type": "display_data"
    },
    {
     "name": "stdout",
     "output_type": "stream",
     "text": [
      "\n",
      "==============================================\n",
      "YearMonth: 2023-04\n",
      "Topik ke- 1\n",
      "berkolaborasi nyaman berbelanja indonesia tokopedia\n",
      "\n",
      "Topik ke- 2\n",
      "berkolaborasi nyaman berbelanja indonesia tokopedia\n",
      "\n",
      "Topik ke- 3\n",
      "tokopedia indonesia berbelanja aplikasi nyaman\n",
      "\n"
     ]
    },
    {
     "data": {
      "image/png": "[encoded data removed]",
      "text/plain": [
       "<Figure size 432x288 with 1 Axes>"
      ]
     },
     "metadata": {
      "needs_background": "light"
     },
     "output_type": "display_data"
    },
    {
     "name": "stdout",
     "output_type": "stream",
     "text": [
      "\n",
      "==============================================\n",
      "YearMonth: 2023-05\n",
      "Topik ke- 1\n",
      "online tokopedia you ga app\n",
      "\n",
      "Topik ke- 2\n",
      "you ga app bagusbagus barang\n",
      "\n",
      "Topik ke- 3\n",
      "you ga app bagusbagus barang\n",
      "\n"
     ]
    },
    {
     "data": {
      "image/png": "[encoded data removed]",
      "text/plain": [
       "<Figure size 432x288 with 1 Axes>"
      ]
     },
     "metadata": {
      "needs_background": "light"
     },
     "output_type": "display_data"
    },
    {
     "name": "stdout",
     "output_type": "stream",
     "text": [
      "\n",
      "==============================================\n"
     ]
    }
   ],
   "source": [
    "# Inisialisasi objek CountVectorizer\n",
    "vectorizer = CountVectorizer()\n",
    "\n",
    "for index, row in df.iterrows():\n",
    "    year_month = row['Month']\n",
    "    text = row['Summary']\n",
    "\n",
    "    # Membangun matriks frekuensi kata\n",
    "    X = vectorizer.fit_transform([text])\n",
    "\n",
    "    # Melatih model LDA\n",
    "    num_topics = 3  # Jumlah topik yang diinginkan\n",
    "    lda_model = LDA(n_components=num_topics)\n",
    "    lda_model.fit(X)\n",
    "\n",
    "    # Menampilkan kata-kata kunci untuk setiap topik\n",
    "    feature_names = vectorizer.get_feature_names_out()\n",
    "    print(\"YearMonth:\", year_month)\n",
    "    for topic_idx, topic in enumerate(lda_model.components_):\n",
    "        keywords = [feature_names[i] for i in topic.argsort()[:-6:-1]]\n",
    "        print(\"Topik ke-\", topic_idx+1)\n",
    "        print(\" \".join(keywords))\n",
    "        print()\n",
    "\n",
    "    # Visualisasi distribusi topik\n",
    "    topic_distribution = lda_model.transform(X)\n",
    "    plt.bar(range(num_topics), topic_distribution[0], align='center')\n",
    "    plt.xlabel('Topik')\n",
    "    plt.ylabel('Distribusi')\n",
    "    plt.title('Distribusi Topik untuk ' + year_month)\n",
    "    plt.xticks(range(num_topics))\n",
    "    plt.show()\n",
    "    print()\n",
    "    print(\"==============================================\")"
   ]
  },
  {
   "cell_type": "code",
   "execution_count": 14,
   "metadata": {
    "colab": {
     "base_uri": "https://localhost:8080/",
     "height": 638
    },
    "id": "M2fUjKsY-4m5",
    "outputId": "dc416ee9-eab9-494d-f383-dbba9c40025c"
   },
   "outputs": [
    {
     "name": "stdout",
     "output_type": "stream",
     "text": [
      "Topik ke- 1\n",
      "belanja tokopedia puas sukses promo\n",
      "\n",
      "Topik ke- 2\n",
      "you good metode yg membantu\n",
      "\n",
      "Topik ke- 3\n",
      "you good metode yg membantu\n",
      "\n"
     ]
    },
    {
     "data": {
      "image/png": "[encoded data removed]",
      "text/plain": [
       "<Figure size 432x288 with 1 Axes>"
      ]
     },
     "metadata": {
      "needs_background": "light"
     },
     "output_type": "display_data"
    }
   ],
   "source": [
    "# Menggabungkan semua teks menjadi satu\n",
    "keseluruhan_kalimat = ' '.join(df['Summary'])\n",
    "\n",
    "X = vectorizer.fit_transform([keseluruhan_kalimat])\n",
    "\n",
    "num_topics = 3\n",
    "lda_model = LDA(n_components=num_topics)\n",
    "lda_model.fit(X)\n",
    "\n",
    "feature_names = vectorizer.get_feature_names_out()\n",
    "for topic_idx, topic in enumerate(lda_model.components_):\n",
    "    keywords = [feature_names[i] for i in topic.argsort()[:-6:-1]]\n",
    "    print(\"Topik ke-\", topic_idx+1)\n",
    "    print(\" \".join(keywords))\n",
    "    print()\n",
    "\n",
    "# Visualisasi distribusi topik\n",
    "topic_distribution = lda_model.transform(X)\n",
    "plt.bar(range(num_topics), topic_distribution[0], align='center')\n",
    "plt.xlabel('Topik')\n",
    "plt.ylabel('Distribusi')\n",
    "plt.title('Distribusi Topik')\n",
    "plt.xticks(range(num_topics))\n",
    "plt.show()"
   ]
  }
 ],
 "metadata": {
  "colab": {
   "provenance": []
  },
  "kernelspec": {
   "display_name": "Python 3",
   "language": "python",
   "name": "python3"
  },
  "language_info": {
   "codemirror_mode": {
    "name": "ipython",
    "version": 3
   },
   "file_extension": ".py",
   "mimetype": "text/x-python",
   "name": "python",
   "nbconvert_exporter": "python",
   "pygments_lexer": "ipython3",
   "version": "3.8.3"
  }
 },
 "nbformat": 4,
 "nbformat_minor": 1
}
